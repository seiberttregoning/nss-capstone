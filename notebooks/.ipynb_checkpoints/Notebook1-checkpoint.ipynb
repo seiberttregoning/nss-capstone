{
 "cells": [
  {
   "cell_type": "code",
   "execution_count": 1,
   "metadata": {},
   "outputs": [],
   "source": [
    "import pandas as pd"
   ]
  },
  {
   "cell_type": "markdown",
   "metadata": {},
   "source": [
    "---\n",
    "### Downloaded Sample from eBird to see what the file looked like"
   ]
  },
  {
   "cell_type": "code",
   "execution_count": 7,
   "metadata": {},
   "outputs": [
    {
     "data": {
      "text/plain": [
       "Index(['GLOBAL UNIQUE IDENTIFIER', 'LAST EDITED DATE', 'TAXONOMIC ORDER',\n",
       "       'CATEGORY', 'COMMON NAME', 'SCIENTIFIC NAME', 'SUBSPECIES COMMON NAME',\n",
       "       'SUBSPECIES SCIENTIFIC NAME', 'OBSERVATION COUNT',\n",
       "       'BREEDING BIRD ATLAS CODE', 'BREEDING BIRD ATLAS CATEGORY', 'AGE/SEX',\n",
       "       'COUNTRY', 'COUNTRY CODE', 'STATE', 'STATE CODE', 'COUNTY',\n",
       "       'COUNTY CODE', 'IBA CODE', 'BCR CODE', 'USFWS CODE', 'ATLAS BLOCK',\n",
       "       'LOCALITY', 'LOCALITY ID', 'LOCALITY TYPE', 'LATITUDE', 'LONGITUDE',\n",
       "       'OBSERVATION DATE', 'TIME OBSERVATIONS STARTED', 'OBSERVER ID',\n",
       "       'SAMPLING EVENT IDENTIFIER', 'PROTOCOL TYPE', 'PROTOCOL CODE',\n",
       "       'PROJECT CODE', 'DURATION MINUTES', 'EFFORT DISTANCE KM',\n",
       "       'EFFORT AREA HA', 'NUMBER OBSERVERS', 'ALL SPECIES REPORTED',\n",
       "       'GROUP IDENTIFIER', 'HAS MEDIA', 'APPROVED', 'REVIEWED', 'REASON',\n",
       "       'TRIP COMMENTS', 'SPECIES COMMENTS', 'Unnamed: 46'],\n",
       "      dtype='object')"
      ]
     },
     "execution_count": 7,
     "metadata": {},
     "output_type": "execute_result"
    }
   ],
   "source": [
    "file_path1 = '../data/eBird_Sample/ebd_US-AL-101_201801_201801_relMay-2018.txt'\n",
    "\n",
    "df1 = pd.read_csv(file_path1, sep='\\t')\n",
    "\n",
    "df1.columns"
   ]
  },
  {
   "cell_type": "code",
   "execution_count": 6,
   "metadata": {},
   "outputs": [
    {
     "data": {
      "text/plain": [
       "array([nan])"
      ]
     },
     "execution_count": 6,
     "metadata": {},
     "output_type": "execute_result"
    }
   ],
   "source": [
    "# What's in column 46? Nothing.\n",
    "\n",
    "df['Unnamed: 46'].unique()"
   ]
  },
  {
   "cell_type": "markdown",
   "metadata": {},
   "source": [
    "---\n",
    "### New dataset, American Crow in TN from May 2010 to May 2020"
   ]
  },
  {
   "cell_type": "code",
   "execution_count": 19,
   "metadata": {},
   "outputs": [
    {
     "name": "stderr",
     "output_type": "stream",
     "text": [
      "C:\\Users\\georg\\anaconda3\\lib\\site-packages\\IPython\\core\\interactiveshell.py:3063: DtypeWarning: Columns (11) have mixed types.Specify dtype option on import or set low_memory=False.\n",
      "  interactivity=interactivity, compiler=compiler, result=result)\n"
     ]
    },
    {
     "data": {
      "text/plain": [
       "Index(['GLOBAL UNIQUE IDENTIFIER', 'LAST EDITED DATE', 'TAXONOMIC ORDER',\n",
       "       'CATEGORY', 'COMMON NAME', 'SCIENTIFIC NAME', 'SUBSPECIES COMMON NAME',\n",
       "       'SUBSPECIES SCIENTIFIC NAME', 'OBSERVATION COUNT',\n",
       "       'BREEDING BIRD ATLAS CODE', 'BREEDING BIRD ATLAS CATEGORY', 'AGE/SEX',\n",
       "       'COUNTRY', 'COUNTRY CODE', 'STATE', 'STATE CODE', 'COUNTY',\n",
       "       'COUNTY CODE', 'IBA CODE', 'BCR CODE', 'USFWS CODE', 'ATLAS BLOCK',\n",
       "       'LOCALITY', 'LOCALITY ID', 'LOCALITY TYPE', 'LATITUDE', 'LONGITUDE',\n",
       "       'OBSERVATION DATE', 'TIME OBSERVATIONS STARTED', 'OBSERVER ID',\n",
       "       'SAMPLING EVENT IDENTIFIER', 'PROTOCOL TYPE', 'PROTOCOL CODE',\n",
       "       'PROJECT CODE', 'DURATION MINUTES', 'EFFORT DISTANCE KM',\n",
       "       'EFFORT AREA HA', 'NUMBER OBSERVERS', 'ALL SPECIES REPORTED',\n",
       "       'GROUP IDENTIFIER', 'HAS MEDIA', 'APPROVED', 'REVIEWED', 'REASON',\n",
       "       'TRIP COMMENTS', 'SPECIES COMMENTS', 'Unnamed: 46'],\n",
       "      dtype='object')"
      ]
     },
     "execution_count": 19,
     "metadata": {},
     "output_type": "execute_result"
    }
   ],
   "source": [
    "file_path2 = '../data/tn_crow_2010/ebd_US-TN_amecro_201005_202005_relApr-2020.txt'\n",
    "\n",
    "df2 = pd.read_csv(file_path2, sep = '\\t')\n",
    "\n",
    "df2.columns"
   ]
  },
  {
   "cell_type": "code",
   "execution_count": 20,
   "metadata": {},
   "outputs": [
    {
     "data": {
      "text/html": [
       "<div>\n",
       "<style scoped>\n",
       "    .dataframe tbody tr th:only-of-type {\n",
       "        vertical-align: middle;\n",
       "    }\n",
       "\n",
       "    .dataframe tbody tr th {\n",
       "        vertical-align: top;\n",
       "    }\n",
       "\n",
       "    .dataframe thead th {\n",
       "        text-align: right;\n",
       "    }\n",
       "</style>\n",
       "<table border=\"1\" class=\"dataframe\">\n",
       "  <thead>\n",
       "    <tr style=\"text-align: right;\">\n",
       "      <th></th>\n",
       "      <th>COMMON NAME</th>\n",
       "      <th>SCIENTIFIC NAME</th>\n",
       "      <th>OBSERVATION COUNT</th>\n",
       "      <th>LATITUDE</th>\n",
       "      <th>LONGITUDE</th>\n",
       "      <th>OBSERVATION DATE</th>\n",
       "    </tr>\n",
       "  </thead>\n",
       "  <tbody>\n",
       "    <tr>\n",
       "      <th>0</th>\n",
       "      <td>American Crow</td>\n",
       "      <td>Corvus brachyrhynchos</td>\n",
       "      <td>4</td>\n",
       "      <td>36.216370</td>\n",
       "      <td>-84.287970</td>\n",
       "      <td>2010-06-07</td>\n",
       "    </tr>\n",
       "    <tr>\n",
       "      <th>1</th>\n",
       "      <td>American Crow</td>\n",
       "      <td>Corvus brachyrhynchos</td>\n",
       "      <td>2</td>\n",
       "      <td>35.168544</td>\n",
       "      <td>-89.062780</td>\n",
       "      <td>2010-06-06</td>\n",
       "    </tr>\n",
       "    <tr>\n",
       "      <th>2</th>\n",
       "      <td>American Crow</td>\n",
       "      <td>Corvus brachyrhynchos</td>\n",
       "      <td>1</td>\n",
       "      <td>36.160330</td>\n",
       "      <td>-82.396431</td>\n",
       "      <td>2010-08-15</td>\n",
       "    </tr>\n",
       "    <tr>\n",
       "      <th>3</th>\n",
       "      <td>American Crow</td>\n",
       "      <td>Corvus brachyrhynchos</td>\n",
       "      <td>1</td>\n",
       "      <td>35.640418</td>\n",
       "      <td>-83.689728</td>\n",
       "      <td>2010-08-11</td>\n",
       "    </tr>\n",
       "    <tr>\n",
       "      <th>4</th>\n",
       "      <td>American Crow</td>\n",
       "      <td>Corvus brachyrhynchos</td>\n",
       "      <td>X</td>\n",
       "      <td>35.631349</td>\n",
       "      <td>-83.445711</td>\n",
       "      <td>2010-06-21</td>\n",
       "    </tr>\n",
       "  </tbody>\n",
       "</table>\n",
       "</div>"
      ],
      "text/plain": [
       "     COMMON NAME        SCIENTIFIC NAME OBSERVATION COUNT   LATITUDE  \\\n",
       "0  American Crow  Corvus brachyrhynchos                 4  36.216370   \n",
       "1  American Crow  Corvus brachyrhynchos                 2  35.168544   \n",
       "2  American Crow  Corvus brachyrhynchos                 1  36.160330   \n",
       "3  American Crow  Corvus brachyrhynchos                 1  35.640418   \n",
       "4  American Crow  Corvus brachyrhynchos                 X  35.631349   \n",
       "\n",
       "   LONGITUDE OBSERVATION DATE  \n",
       "0 -84.287970       2010-06-07  \n",
       "1 -89.062780       2010-06-06  \n",
       "2 -82.396431       2010-08-15  \n",
       "3 -83.689728       2010-08-11  \n",
       "4 -83.445711       2010-06-21  "
      ]
     },
     "execution_count": 20,
     "metadata": {},
     "output_type": "execute_result"
    }
   ],
   "source": [
    "# Narrowing to columns of interest\n",
    "\n",
    "columns_of_interest = ['COMMON NAME', \n",
    "                       'SCIENTIFIC NAME',\n",
    "                       'OBSERVATION COUNT',\n",
    "                       'LATITUDE',\n",
    "                       'LONGITUDE',\n",
    "                       'OBSERVATION DATE']\n",
    "\n",
    "df2 = pd.read_csv(file_path2, sep = '\\t', usecols = columns_of_interest)\n",
    "\n",
    "df2.head()"
   ]
  },
  {
   "cell_type": "code",
   "execution_count": 29,
   "metadata": {
    "scrolled": true
   },
   "outputs": [
    {
     "data": {
      "text/plain": [
       "2.322034789620376"
      ]
     },
     "execution_count": 29,
     "metadata": {},
     "output_type": "execute_result"
    }
   ],
   "source": [
    "# What percentage of rows would I lose if I drop the 'X' from Observation Count?\n",
    "\n",
    "len(df2[df2['OBSERVATION COUNT'] == 'X'].index)/len(df2)*100"
   ]
  },
  {
   "cell_type": "code",
   "execution_count": 8,
   "metadata": {},
   "outputs": [],
   "source": [
    "# Removing 'X' in observation count so that observation count can be converted to int for mathematical operations\n",
    "\n",
    "df2 = df2.loc[df2['OBSERVATION COUNT'] != 'X']"
   ]
  },
  {
   "cell_type": "code",
   "execution_count": 9,
   "metadata": {},
   "outputs": [],
   "source": [
    "df2.to_csv('../data/tn_crow_2010/parsed_data.csv')"
   ]
  },
  {
   "cell_type": "code",
   "execution_count": 18,
   "metadata": {},
   "outputs": [
    {
     "data": {
      "text/plain": [
       "21476"
      ]
     },
     "execution_count": 18,
     "metadata": {},
     "output_type": "execute_result"
    }
   ],
   "source": [
    "# Double checking a value in PowerBI. Looks good.\n",
    "\n",
    "df2.loc[(df2['OBSERVATION DATE'] >= '2019-11-01') &  (df2['OBSERVATION DATE'] <= '2019-11-30')]['OBSERVATION COUNT'].astype(int).sum()"
   ]
  },
  {
   "cell_type": "markdown",
   "metadata": {},
   "source": [
    "#### Quick analysis in PowerBI shows that mapping sightings over time using dates, observation count sums, and lat/lng is possible. Using line graphs of months, labels years, values sum of observation counts show that as years increase the number of sightings increases (more birders/birder efforts?). Downloading a new dataset of all TN sightings to get relative frequency of species."
   ]
  },
  {
   "cell_type": "markdown",
   "metadata": {},
   "source": [
    "---\n",
    "### Downloaded a new dataset from eBird. All birds in TN from Jan 2010 to Jan 2020"
   ]
  },
  {
   "cell_type": "code",
   "execution_count": 30,
   "metadata": {},
   "outputs": [
    {
     "data": {
      "text/html": [
       "<div>\n",
       "<style scoped>\n",
       "    .dataframe tbody tr th:only-of-type {\n",
       "        vertical-align: middle;\n",
       "    }\n",
       "\n",
       "    .dataframe tbody tr th {\n",
       "        vertical-align: top;\n",
       "    }\n",
       "\n",
       "    .dataframe thead th {\n",
       "        text-align: right;\n",
       "    }\n",
       "</style>\n",
       "<table border=\"1\" class=\"dataframe\">\n",
       "  <thead>\n",
       "    <tr style=\"text-align: right;\">\n",
       "      <th></th>\n",
       "      <th>COMMON NAME</th>\n",
       "      <th>SCIENTIFIC NAME</th>\n",
       "      <th>OBSERVATION COUNT</th>\n",
       "      <th>LATITUDE</th>\n",
       "      <th>LONGITUDE</th>\n",
       "      <th>OBSERVATION DATE</th>\n",
       "    </tr>\n",
       "  </thead>\n",
       "  <tbody>\n",
       "    <tr>\n",
       "      <th>0</th>\n",
       "      <td>woodpecker sp.</td>\n",
       "      <td>Picidae sp.</td>\n",
       "      <td>1</td>\n",
       "      <td>36.133473</td>\n",
       "      <td>-82.275538</td>\n",
       "      <td>2010-10-09</td>\n",
       "    </tr>\n",
       "    <tr>\n",
       "      <th>1</th>\n",
       "      <td>Red-eyed Vireo</td>\n",
       "      <td>Vireo olivaceus</td>\n",
       "      <td>1</td>\n",
       "      <td>35.309137</td>\n",
       "      <td>-84.039316</td>\n",
       "      <td>2010-09-02</td>\n",
       "    </tr>\n",
       "    <tr>\n",
       "      <th>2</th>\n",
       "      <td>Vesper Sparrow</td>\n",
       "      <td>Pooecetes gramineus</td>\n",
       "      <td>1</td>\n",
       "      <td>35.762811</td>\n",
       "      <td>-85.666409</td>\n",
       "      <td>2010-01-17</td>\n",
       "    </tr>\n",
       "    <tr>\n",
       "      <th>3</th>\n",
       "      <td>Worm-eating Warbler</td>\n",
       "      <td>Helmitheros vermivorum</td>\n",
       "      <td>3</td>\n",
       "      <td>36.273015</td>\n",
       "      <td>-86.905004</td>\n",
       "      <td>2010-05-24</td>\n",
       "    </tr>\n",
       "    <tr>\n",
       "      <th>4</th>\n",
       "      <td>Tree Swallow</td>\n",
       "      <td>Tachycineta bicolor</td>\n",
       "      <td>4</td>\n",
       "      <td>36.175372</td>\n",
       "      <td>-86.708865</td>\n",
       "      <td>2010-04-04</td>\n",
       "    </tr>\n",
       "  </tbody>\n",
       "</table>\n",
       "</div>"
      ],
      "text/plain": [
       "           COMMON NAME         SCIENTIFIC NAME OBSERVATION COUNT   LATITUDE  \\\n",
       "0       woodpecker sp.             Picidae sp.                 1  36.133473   \n",
       "1       Red-eyed Vireo         Vireo olivaceus                 1  35.309137   \n",
       "2       Vesper Sparrow     Pooecetes gramineus                 1  35.762811   \n",
       "3  Worm-eating Warbler  Helmitheros vermivorum                 3  36.273015   \n",
       "4         Tree Swallow     Tachycineta bicolor                 4  36.175372   \n",
       "\n",
       "   LONGITUDE OBSERVATION DATE  \n",
       "0 -82.275538       2010-10-09  \n",
       "1 -84.039316       2010-09-02  \n",
       "2 -85.666409       2010-01-17  \n",
       "3 -86.905004       2010-05-24  \n",
       "4 -86.708865       2010-04-04  "
      ]
     },
     "execution_count": 30,
     "metadata": {},
     "output_type": "execute_result"
    }
   ],
   "source": [
    "file_path3 = '../data/tn_all_2010/ebd_US-TN_201001_202001_relApr-2020.txt'\n",
    "\n",
    "columns_of_interest = ['COMMON NAME', \n",
    "                       'SCIENTIFIC NAME',\n",
    "                       'OBSERVATION COUNT',\n",
    "                       'LATITUDE',\n",
    "                       'LONGITUDE',\n",
    "                       'OBSERVATION DATE']\n",
    "\n",
    "df3 = pd.read_csv(file_path3, sep = '\\t', usecols = columns_of_interest)\n",
    "\n",
    "df3.head()"
   ]
  },
  {
   "cell_type": "code",
   "execution_count": 32,
   "metadata": {},
   "outputs": [
    {
     "data": {
      "text/plain": [
       "2.3278197032229992"
      ]
     },
     "execution_count": 32,
     "metadata": {},
     "output_type": "execute_result"
    }
   ],
   "source": [
    "# Percentage of 'X' observations?\n",
    "\n",
    "len(df3[df3['OBSERVATION COUNT'] == 'X'].index)/len(df3)*100"
   ]
  },
  {
   "cell_type": "code",
   "execution_count": 33,
   "metadata": {},
   "outputs": [],
   "source": [
    "# Removing 'X' in observation count and converting observation count to int for mathematical operations\n",
    "\n",
    "df3 = df3.loc[df3['OBSERVATION COUNT'] != 'X']\n",
    "\n",
    "df3['OBSERVATION COUNT'] = df3['OBSERVATION COUNT'].astype(int)"
   ]
  },
  {
   "cell_type": "code",
   "execution_count": 35,
   "metadata": {},
   "outputs": [
    {
     "data": {
      "text/plain": [
       "534"
      ]
     },
     "execution_count": 35,
     "metadata": {},
     "output_type": "execute_result"
    }
   ],
   "source": [
    "len(df3['COMMON NAME'].unique())"
   ]
  },
  {
   "cell_type": "code",
   "execution_count": 39,
   "metadata": {},
   "outputs": [
    {
     "data": {
      "text/plain": [
       "2.8624656982452605"
      ]
     },
     "execution_count": 39,
     "metadata": {},
     "output_type": "execute_result"
    }
   ],
   "source": [
    "june_2010 = df3.loc[(df3['OBSERVATION DATE'] >= '2010-06-01') & (df3['OBSERVATION DATE'] <= '2010-06-30')]\n",
    "\n",
    "crow_count = june_2010.loc[june_2010['COMMON NAME'] == 'American Crow']['OBSERVATION COUNT'].sum()\n",
    "\n",
    "all_count = june_2010['OBSERVATION COUNT'].sum()\n",
    "\n",
    "crow_count/all_count*100"
   ]
  },
  {
   "cell_type": "code",
   "execution_count": 80,
   "metadata": {},
   "outputs": [],
   "source": [
    "def get_crow_pct(date1, date2):\n",
    "    \"\"\"Takes 2 dates finds the percentage of crows in TN between those dates\"\"\"\n",
    "    date_frame = df3.loc[(df3['OBSERVATION DATE'] >= date1) & (df3['OBSERVATION DATE'] < date2)]\n",
    "    \n",
    "    crow_count = date_frame.loc[date_frame['COMMON NAME'] == 'American Crow']['OBSERVATION COUNT'].sum()\n",
    "    \n",
    "    all_count = date_frame['OBSERVATION COUNT'].sum()\n",
    "    \n",
    "    crow_pct = round(crow_count/all_count*100, 2)\n",
    "    \n",
    "    return crow_pct"
   ]
  },
  {
   "cell_type": "code",
   "execution_count": 81,
   "metadata": {},
   "outputs": [
    {
     "data": {
      "text/plain": [
       "2.86"
      ]
     },
     "execution_count": 81,
     "metadata": {},
     "output_type": "execute_result"
    }
   ],
   "source": [
    "get_crow_pct('2010-06-01', '2010-07-01')"
   ]
  },
  {
   "cell_type": "code",
   "execution_count": 51,
   "metadata": {},
   "outputs": [
    {
     "data": {
      "text/plain": [
       "1.71"
      ]
     },
     "execution_count": 51,
     "metadata": {},
     "output_type": "execute_result"
    }
   ],
   "source": [
    "get_crow_pct('2019-07-01', '2019-08-01')"
   ]
  },
  {
   "cell_type": "code",
   "execution_count": 54,
   "metadata": {},
   "outputs": [
    {
     "data": {
      "text/plain": [
       "DatetimeIndex(['2010-01-01', '2010-02-01', '2010-03-01', '2010-04-01',\n",
       "               '2010-05-01', '2010-06-01', '2010-07-01', '2010-08-01',\n",
       "               '2010-09-01', '2010-10-01',\n",
       "               ...\n",
       "               '2019-05-01', '2019-06-01', '2019-07-01', '2019-08-01',\n",
       "               '2019-09-01', '2019-10-01', '2019-11-01', '2019-12-01',\n",
       "               '2020-01-01', '2020-02-01'],\n",
       "              dtype='datetime64[ns]', length=122, freq='M')"
      ]
     },
     "execution_count": 54,
     "metadata": {},
     "output_type": "execute_result"
    }
   ],
   "source": [
    "dates = pd.date_range('2010-01-01','2020-03-01' , freq='1M')-pd.offsets.MonthBegin(1)\n",
    "\n",
    "dates"
   ]
  },
  {
   "cell_type": "code",
   "execution_count": 83,
   "metadata": {},
   "outputs": [
    {
     "ename": "NameError",
     "evalue": "name 'crow_pct' is not defined",
     "output_type": "error",
     "traceback": [
      "\u001b[1;31m---------------------------------------------------------------------------\u001b[0m",
      "\u001b[1;31mNameError\u001b[0m                                 Traceback (most recent call last)",
      "\u001b[1;32m<ipython-input-83-0d57564fb666>\u001b[0m in \u001b[0;36m<module>\u001b[1;34m\u001b[0m\n\u001b[0;32m      8\u001b[0m         \u001b[0mget_crow_pct\u001b[0m\u001b[1;33m(\u001b[0m\u001b[0mdates\u001b[0m\u001b[1;33m[\u001b[0m\u001b[0mi\u001b[0m\u001b[1;33m]\u001b[0m\u001b[1;33m.\u001b[0m\u001b[0mdate\u001b[0m\u001b[1;33m(\u001b[0m\u001b[1;33m)\u001b[0m\u001b[1;33m.\u001b[0m\u001b[0mstrftime\u001b[0m\u001b[1;33m(\u001b[0m\u001b[1;34m'%Y-%m-%d'\u001b[0m\u001b[1;33m)\u001b[0m\u001b[1;33m,\u001b[0m \u001b[0mdates\u001b[0m\u001b[1;33m[\u001b[0m\u001b[0mi\u001b[0m\u001b[1;33m+\u001b[0m\u001b[1;36m1\u001b[0m\u001b[1;33m]\u001b[0m\u001b[1;33m.\u001b[0m\u001b[0mdate\u001b[0m\u001b[1;33m(\u001b[0m\u001b[1;33m)\u001b[0m\u001b[1;33m.\u001b[0m\u001b[0mstrftime\u001b[0m\u001b[1;33m(\u001b[0m\u001b[1;34m'%Y-%m-%d'\u001b[0m\u001b[1;33m)\u001b[0m\u001b[1;33m)\u001b[0m\u001b[1;33m\u001b[0m\u001b[1;33m\u001b[0m\u001b[0m\n\u001b[0;32m      9\u001b[0m \u001b[1;33m\u001b[0m\u001b[0m\n\u001b[1;32m---> 10\u001b[1;33m         \u001b[0mprint\u001b[0m\u001b[1;33m(\u001b[0m\u001b[0mdates\u001b[0m\u001b[1;33m[\u001b[0m\u001b[0mi\u001b[0m\u001b[1;33m]\u001b[0m\u001b[1;33m.\u001b[0m\u001b[0mdate\u001b[0m\u001b[1;33m(\u001b[0m\u001b[1;33m)\u001b[0m\u001b[1;33m.\u001b[0m\u001b[0mstrftime\u001b[0m\u001b[1;33m(\u001b[0m\u001b[1;34m'%Y-%m-%d'\u001b[0m\u001b[1;33m)\u001b[0m\u001b[1;33m,\u001b[0m \u001b[0mdates\u001b[0m\u001b[1;33m[\u001b[0m\u001b[0mi\u001b[0m\u001b[1;33m+\u001b[0m\u001b[1;36m1\u001b[0m\u001b[1;33m]\u001b[0m\u001b[1;33m.\u001b[0m\u001b[0mdate\u001b[0m\u001b[1;33m(\u001b[0m\u001b[1;33m)\u001b[0m\u001b[1;33m.\u001b[0m\u001b[0mstrftime\u001b[0m\u001b[1;33m(\u001b[0m\u001b[1;34m'%Y-%m-%d'\u001b[0m\u001b[1;33m)\u001b[0m\u001b[1;33m,\u001b[0m \u001b[0mcrow_pct\u001b[0m \u001b[1;33m)\u001b[0m\u001b[1;33m\u001b[0m\u001b[1;33m\u001b[0m\u001b[0m\n\u001b[0m",
      "\u001b[1;31mNameError\u001b[0m: name 'crow_pct' is not defined"
     ]
    }
   ],
   "source": [
    "crow_list = []\n",
    "\n",
    "for i in range(len(dates)):\n",
    "    if i+1 == len(dates):\n",
    "        break\n",
    "    else:\n",
    "    \n",
    "        get_crow_pct(dates[i].date().strftime('%Y-%m-%d'), dates[i+1].date().strftime('%Y-%m-%d'))\n",
    "    \n",
    "        print(dates[i].date().strftime('%Y-%m-%d'), dates[i+1].date().strftime('%Y-%m-%d'), crow_pct )"
   ]
  },
  {
   "cell_type": "code",
   "execution_count": null,
   "metadata": {},
   "outputs": [],
   "source": []
  }
 ],
 "metadata": {
  "kernelspec": {
   "display_name": "Python 3",
   "language": "python",
   "name": "python3"
  },
  "language_info": {
   "codemirror_mode": {
    "name": "ipython",
    "version": 3
   },
   "file_extension": ".py",
   "mimetype": "text/x-python",
   "name": "python",
   "nbconvert_exporter": "python",
   "pygments_lexer": "ipython3",
   "version": "3.7.6"
  }
 },
 "nbformat": 4,
 "nbformat_minor": 4
}
