{
 "cells": [
  {
   "cell_type": "code",
   "execution_count": 1,
   "metadata": {},
   "outputs": [],
   "source": [
    "import pandas as pd\n",
    "\n",
    "import matplotlib.pyplot as plt"
   ]
  },
  {
   "cell_type": "markdown",
   "metadata": {},
   "source": [
    "---\n",
    "### Downloaded Sample from eBird to see what the file looked like"
   ]
  },
  {
   "cell_type": "code",
   "execution_count": 7,
   "metadata": {},
   "outputs": [
    {
     "data": {
      "text/plain": [
       "Index(['GLOBAL UNIQUE IDENTIFIER', 'LAST EDITED DATE', 'TAXONOMIC ORDER',\n",
       "       'CATEGORY', 'COMMON NAME', 'SCIENTIFIC NAME', 'SUBSPECIES COMMON NAME',\n",
       "       'SUBSPECIES SCIENTIFIC NAME', 'OBSERVATION COUNT',\n",
       "       'BREEDING BIRD ATLAS CODE', 'BREEDING BIRD ATLAS CATEGORY', 'AGE/SEX',\n",
       "       'COUNTRY', 'COUNTRY CODE', 'STATE', 'STATE CODE', 'COUNTY',\n",
       "       'COUNTY CODE', 'IBA CODE', 'BCR CODE', 'USFWS CODE', 'ATLAS BLOCK',\n",
       "       'LOCALITY', 'LOCALITY ID', 'LOCALITY TYPE', 'LATITUDE', 'LONGITUDE',\n",
       "       'OBSERVATION DATE', 'TIME OBSERVATIONS STARTED', 'OBSERVER ID',\n",
       "       'SAMPLING EVENT IDENTIFIER', 'PROTOCOL TYPE', 'PROTOCOL CODE',\n",
       "       'PROJECT CODE', 'DURATION MINUTES', 'EFFORT DISTANCE KM',\n",
       "       'EFFORT AREA HA', 'NUMBER OBSERVERS', 'ALL SPECIES REPORTED',\n",
       "       'GROUP IDENTIFIER', 'HAS MEDIA', 'APPROVED', 'REVIEWED', 'REASON',\n",
       "       'TRIP COMMENTS', 'SPECIES COMMENTS', 'Unnamed: 46'],\n",
       "      dtype='object')"
      ]
     },
     "execution_count": 7,
     "metadata": {},
     "output_type": "execute_result"
    }
   ],
   "source": [
    "file_path1 = '../data/eBird_Sample/ebd_US-AL-101_201801_201801_relMay-2018.txt'\n",
    "\n",
    "df1 = pd.read_csv(file_path1, sep='\\t')\n",
    "\n",
    "df1.columns"
   ]
  },
  {
   "cell_type": "code",
   "execution_count": 6,
   "metadata": {},
   "outputs": [
    {
     "data": {
      "text/plain": [
       "array([nan])"
      ]
     },
     "execution_count": 6,
     "metadata": {},
     "output_type": "execute_result"
    }
   ],
   "source": [
    "# What's in column 46? Nothing.\n",
    "\n",
    "df['Unnamed: 46'].unique()"
   ]
  },
  {
   "cell_type": "markdown",
   "metadata": {},
   "source": [
    "---\n",
    "### New dataset, American Crow in TN from May 2010 to May 2020"
   ]
  },
  {
   "cell_type": "code",
   "execution_count": 2,
   "metadata": {},
   "outputs": [
    {
     "data": {
      "text/plain": [
       "Index(['GLOBAL UNIQUE IDENTIFIER', 'LAST EDITED DATE', 'TAXONOMIC ORDER',\n",
       "       'CATEGORY', 'COMMON NAME', 'SCIENTIFIC NAME', 'SUBSPECIES COMMON NAME',\n",
       "       'SUBSPECIES SCIENTIFIC NAME', 'OBSERVATION COUNT',\n",
       "       'BREEDING BIRD ATLAS CODE', 'BREEDING BIRD ATLAS CATEGORY', 'AGE/SEX',\n",
       "       'COUNTRY', 'COUNTRY CODE', 'STATE', 'STATE CODE', 'COUNTY',\n",
       "       'COUNTY CODE', 'IBA CODE', 'BCR CODE', 'USFWS CODE', 'ATLAS BLOCK',\n",
       "       'LOCALITY', 'LOCALITY ID', 'LOCALITY TYPE', 'LATITUDE', 'LONGITUDE',\n",
       "       'OBSERVATION DATE', 'TIME OBSERVATIONS STARTED', 'OBSERVER ID',\n",
       "       'SAMPLING EVENT IDENTIFIER', 'PROTOCOL TYPE', 'PROTOCOL CODE',\n",
       "       'PROJECT CODE', 'DURATION MINUTES', 'EFFORT DISTANCE KM',\n",
       "       'EFFORT AREA HA', 'NUMBER OBSERVERS', 'ALL SPECIES REPORTED',\n",
       "       'GROUP IDENTIFIER', 'HAS MEDIA', 'APPROVED', 'REVIEWED', 'REASON',\n",
       "       'TRIP COMMENTS', 'SPECIES COMMENTS', 'Unnamed: 46'],\n",
       "      dtype='object')"
      ]
     },
     "execution_count": 2,
     "metadata": {},
     "output_type": "execute_result"
    }
   ],
   "source": [
    "file_path2 = '../data/tn_crow_2010/ebd_US-TN_amecro_201005_202005_relApr-2020.txt'\n",
    "\n",
    "df2 = pd.read_csv(file_path2, sep = '\\t', low_memory = False)\n",
    "\n",
    "df2.columns"
   ]
  },
  {
   "cell_type": "code",
   "execution_count": 3,
   "metadata": {},
   "outputs": [
    {
     "data": {
      "text/html": [
       "<div>\n",
       "<style scoped>\n",
       "    .dataframe tbody tr th:only-of-type {\n",
       "        vertical-align: middle;\n",
       "    }\n",
       "\n",
       "    .dataframe tbody tr th {\n",
       "        vertical-align: top;\n",
       "    }\n",
       "\n",
       "    .dataframe thead th {\n",
       "        text-align: right;\n",
       "    }\n",
       "</style>\n",
       "<table border=\"1\" class=\"dataframe\">\n",
       "  <thead>\n",
       "    <tr style=\"text-align: right;\">\n",
       "      <th></th>\n",
       "      <th>COMMON NAME</th>\n",
       "      <th>SCIENTIFIC NAME</th>\n",
       "      <th>OBSERVATION COUNT</th>\n",
       "      <th>LATITUDE</th>\n",
       "      <th>LONGITUDE</th>\n",
       "      <th>OBSERVATION DATE</th>\n",
       "    </tr>\n",
       "  </thead>\n",
       "  <tbody>\n",
       "    <tr>\n",
       "      <th>0</th>\n",
       "      <td>American Crow</td>\n",
       "      <td>Corvus brachyrhynchos</td>\n",
       "      <td>4</td>\n",
       "      <td>36.216370</td>\n",
       "      <td>-84.287970</td>\n",
       "      <td>2010-06-07</td>\n",
       "    </tr>\n",
       "    <tr>\n",
       "      <th>1</th>\n",
       "      <td>American Crow</td>\n",
       "      <td>Corvus brachyrhynchos</td>\n",
       "      <td>2</td>\n",
       "      <td>35.168544</td>\n",
       "      <td>-89.062780</td>\n",
       "      <td>2010-06-06</td>\n",
       "    </tr>\n",
       "    <tr>\n",
       "      <th>2</th>\n",
       "      <td>American Crow</td>\n",
       "      <td>Corvus brachyrhynchos</td>\n",
       "      <td>1</td>\n",
       "      <td>36.160330</td>\n",
       "      <td>-82.396431</td>\n",
       "      <td>2010-08-15</td>\n",
       "    </tr>\n",
       "    <tr>\n",
       "      <th>3</th>\n",
       "      <td>American Crow</td>\n",
       "      <td>Corvus brachyrhynchos</td>\n",
       "      <td>1</td>\n",
       "      <td>35.640418</td>\n",
       "      <td>-83.689728</td>\n",
       "      <td>2010-08-11</td>\n",
       "    </tr>\n",
       "    <tr>\n",
       "      <th>4</th>\n",
       "      <td>American Crow</td>\n",
       "      <td>Corvus brachyrhynchos</td>\n",
       "      <td>X</td>\n",
       "      <td>35.631349</td>\n",
       "      <td>-83.445711</td>\n",
       "      <td>2010-06-21</td>\n",
       "    </tr>\n",
       "  </tbody>\n",
       "</table>\n",
       "</div>"
      ],
      "text/plain": [
       "     COMMON NAME        SCIENTIFIC NAME OBSERVATION COUNT   LATITUDE  \\\n",
       "0  American Crow  Corvus brachyrhynchos                 4  36.216370   \n",
       "1  American Crow  Corvus brachyrhynchos                 2  35.168544   \n",
       "2  American Crow  Corvus brachyrhynchos                 1  36.160330   \n",
       "3  American Crow  Corvus brachyrhynchos                 1  35.640418   \n",
       "4  American Crow  Corvus brachyrhynchos                 X  35.631349   \n",
       "\n",
       "   LONGITUDE OBSERVATION DATE  \n",
       "0 -84.287970       2010-06-07  \n",
       "1 -89.062780       2010-06-06  \n",
       "2 -82.396431       2010-08-15  \n",
       "3 -83.689728       2010-08-11  \n",
       "4 -83.445711       2010-06-21  "
      ]
     },
     "execution_count": 3,
     "metadata": {},
     "output_type": "execute_result"
    }
   ],
   "source": [
    "# Narrowing to columns of interest\n",
    "\n",
    "columns_of_interest = ['COMMON NAME', \n",
    "                       'SCIENTIFIC NAME',\n",
    "                       'OBSERVATION COUNT',\n",
    "                       'LATITUDE',\n",
    "                       'LONGITUDE',\n",
    "                       'OBSERVATION DATE']\n",
    "\n",
    "df2 = pd.read_csv(file_path2, sep = '\\t', usecols = columns_of_interest)\n",
    "\n",
    "df2.head()"
   ]
  },
  {
   "cell_type": "code",
   "execution_count": 4,
   "metadata": {
    "scrolled": true
   },
   "outputs": [
    {
     "data": {
      "text/plain": [
       "2.322034789620376"
      ]
     },
     "execution_count": 4,
     "metadata": {},
     "output_type": "execute_result"
    }
   ],
   "source": [
    "# What percentage of rows would I lose if I drop the 'X' from Observation Count?\n",
    "\n",
    "len(df2[df2['OBSERVATION COUNT'] == 'X'].index)/len(df2)*100"
   ]
  },
  {
   "cell_type": "code",
   "execution_count": 5,
   "metadata": {},
   "outputs": [],
   "source": [
    "# Removing 'X' in observation count so that observation count can be converted to int for mathematical operations\n",
    "\n",
    "df2 = df2.loc[df2['OBSERVATION COUNT'] != 'X']"
   ]
  },
  {
   "cell_type": "code",
   "execution_count": 6,
   "metadata": {},
   "outputs": [],
   "source": [
    "df2.to_csv('../data/tn_crow_2010/parsed_data.csv')"
   ]
  },
  {
   "cell_type": "code",
   "execution_count": 7,
   "metadata": {},
   "outputs": [
    {
     "data": {
      "text/plain": [
       "21476"
      ]
     },
     "execution_count": 7,
     "metadata": {},
     "output_type": "execute_result"
    }
   ],
   "source": [
    "# Double checking a value in PowerBI. Looks good.\n",
    "\n",
    "df2.loc[(df2['OBSERVATION DATE'] >= '2019-11-01') &  (df2['OBSERVATION DATE'] <= '2019-11-30')]['OBSERVATION COUNT'].astype(int).sum()"
   ]
  },
  {
   "cell_type": "markdown",
   "metadata": {},
   "source": [
    "#### Quick analysis in PowerBI shows that mapping sightings over time using dates, observation count sums, and lat/lng is possible. Using line graphs of months, labels years, values sum of observation counts show that as years increase the number of sightings increases (more birders/birder efforts?). Downloading a new dataset of all TN sightings to get relative frequency of species."
   ]
  },
  {
   "cell_type": "markdown",
   "metadata": {},
   "source": [
    "---\n",
    "### Downloaded a new dataset from eBird. All birds in TN from Jan 2010 to Jan 2020"
   ]
  },
  {
   "cell_type": "code",
   "execution_count": 8,
   "metadata": {},
   "outputs": [
    {
     "data": {
      "text/html": [
       "<div>\n",
       "<style scoped>\n",
       "    .dataframe tbody tr th:only-of-type {\n",
       "        vertical-align: middle;\n",
       "    }\n",
       "\n",
       "    .dataframe tbody tr th {\n",
       "        vertical-align: top;\n",
       "    }\n",
       "\n",
       "    .dataframe thead th {\n",
       "        text-align: right;\n",
       "    }\n",
       "</style>\n",
       "<table border=\"1\" class=\"dataframe\">\n",
       "  <thead>\n",
       "    <tr style=\"text-align: right;\">\n",
       "      <th></th>\n",
       "      <th>COMMON NAME</th>\n",
       "      <th>SCIENTIFIC NAME</th>\n",
       "      <th>OBSERVATION COUNT</th>\n",
       "      <th>LATITUDE</th>\n",
       "      <th>LONGITUDE</th>\n",
       "      <th>OBSERVATION DATE</th>\n",
       "    </tr>\n",
       "  </thead>\n",
       "  <tbody>\n",
       "    <tr>\n",
       "      <th>0</th>\n",
       "      <td>woodpecker sp.</td>\n",
       "      <td>Picidae sp.</td>\n",
       "      <td>1</td>\n",
       "      <td>36.133473</td>\n",
       "      <td>-82.275538</td>\n",
       "      <td>2010-10-09</td>\n",
       "    </tr>\n",
       "    <tr>\n",
       "      <th>1</th>\n",
       "      <td>Red-eyed Vireo</td>\n",
       "      <td>Vireo olivaceus</td>\n",
       "      <td>1</td>\n",
       "      <td>35.309137</td>\n",
       "      <td>-84.039316</td>\n",
       "      <td>2010-09-02</td>\n",
       "    </tr>\n",
       "    <tr>\n",
       "      <th>2</th>\n",
       "      <td>Vesper Sparrow</td>\n",
       "      <td>Pooecetes gramineus</td>\n",
       "      <td>1</td>\n",
       "      <td>35.762811</td>\n",
       "      <td>-85.666409</td>\n",
       "      <td>2010-01-17</td>\n",
       "    </tr>\n",
       "    <tr>\n",
       "      <th>3</th>\n",
       "      <td>Worm-eating Warbler</td>\n",
       "      <td>Helmitheros vermivorum</td>\n",
       "      <td>3</td>\n",
       "      <td>36.273015</td>\n",
       "      <td>-86.905004</td>\n",
       "      <td>2010-05-24</td>\n",
       "    </tr>\n",
       "    <tr>\n",
       "      <th>4</th>\n",
       "      <td>Tree Swallow</td>\n",
       "      <td>Tachycineta bicolor</td>\n",
       "      <td>4</td>\n",
       "      <td>36.175372</td>\n",
       "      <td>-86.708865</td>\n",
       "      <td>2010-04-04</td>\n",
       "    </tr>\n",
       "  </tbody>\n",
       "</table>\n",
       "</div>"
      ],
      "text/plain": [
       "           COMMON NAME         SCIENTIFIC NAME OBSERVATION COUNT   LATITUDE  \\\n",
       "0       woodpecker sp.             Picidae sp.                 1  36.133473   \n",
       "1       Red-eyed Vireo         Vireo olivaceus                 1  35.309137   \n",
       "2       Vesper Sparrow     Pooecetes gramineus                 1  35.762811   \n",
       "3  Worm-eating Warbler  Helmitheros vermivorum                 3  36.273015   \n",
       "4         Tree Swallow     Tachycineta bicolor                 4  36.175372   \n",
       "\n",
       "   LONGITUDE OBSERVATION DATE  \n",
       "0 -82.275538       2010-10-09  \n",
       "1 -84.039316       2010-09-02  \n",
       "2 -85.666409       2010-01-17  \n",
       "3 -86.905004       2010-05-24  \n",
       "4 -86.708865       2010-04-04  "
      ]
     },
     "execution_count": 8,
     "metadata": {},
     "output_type": "execute_result"
    }
   ],
   "source": [
    "file_path3 = '../data/tn_all_2010/ebd_US-TN_201001_202001_relApr-2020.txt'\n",
    "\n",
    "columns_of_interest = ['COMMON NAME', \n",
    "                       'SCIENTIFIC NAME',\n",
    "                       'OBSERVATION COUNT',\n",
    "                       'LATITUDE',\n",
    "                       'LONGITUDE',\n",
    "                       'OBSERVATION DATE']\n",
    "\n",
    "df3 = pd.read_csv(file_path3, sep = '\\t', usecols = columns_of_interest)\n",
    "\n",
    "df3.head()"
   ]
  },
  {
   "cell_type": "code",
   "execution_count": 9,
   "metadata": {},
   "outputs": [
    {
     "name": "stdout",
     "output_type": "stream",
     "text": [
      "<class 'pandas.core.frame.DataFrame'>\n",
      "RangeIndex: 5221968 entries, 0 to 5221967\n",
      "Data columns (total 6 columns):\n",
      " #   Column             Dtype  \n",
      "---  ------             -----  \n",
      " 0   COMMON NAME        object \n",
      " 1   SCIENTIFIC NAME    object \n",
      " 2   OBSERVATION COUNT  object \n",
      " 3   LATITUDE           float64\n",
      " 4   LONGITUDE          float64\n",
      " 5   OBSERVATION DATE   object \n",
      "dtypes: float64(2), object(4)\n",
      "memory usage: 239.0+ MB\n"
     ]
    }
   ],
   "source": [
    "df3.info()"
   ]
  },
  {
   "cell_type": "code",
   "execution_count": 10,
   "metadata": {},
   "outputs": [
    {
     "data": {
      "text/plain": [
       "2.3278197032229992"
      ]
     },
     "execution_count": 10,
     "metadata": {},
     "output_type": "execute_result"
    }
   ],
   "source": [
    "# Percentage of 'X' observations?\n",
    "\n",
    "len(df3[df3['OBSERVATION COUNT'] == 'X'].index)/len(df3)*100"
   ]
  },
  {
   "cell_type": "code",
   "execution_count": 11,
   "metadata": {},
   "outputs": [],
   "source": [
    "# Removing 'X' in observation count and converting observation count to int for mathematical operations\n",
    "\n",
    "df3 = df3.loc[df3['OBSERVATION COUNT'] != 'X']\n",
    "\n",
    "df3['OBSERVATION COUNT'] = df3['OBSERVATION COUNT'].astype(int)"
   ]
  },
  {
   "cell_type": "code",
   "execution_count": 12,
   "metadata": {},
   "outputs": [
    {
     "data": {
      "text/plain": [
       "534"
      ]
     },
     "execution_count": 12,
     "metadata": {},
     "output_type": "execute_result"
    }
   ],
   "source": [
    "# How many different birds in TN in my dataset?\n",
    "\n",
    "len(df3['COMMON NAME'].unique())"
   ]
  },
  {
   "cell_type": "code",
   "execution_count": 13,
   "metadata": {},
   "outputs": [
    {
     "data": {
      "text/plain": [
       "2.8624656982452605"
      ]
     },
     "execution_count": 13,
     "metadata": {},
     "output_type": "execute_result"
    }
   ],
   "source": [
    "# Getting the relative frequency of crows for Jun 2010\n",
    "\n",
    "june_2010 = df3.loc[(df3['OBSERVATION DATE'] >= '2010-06-01') & (df3['OBSERVATION DATE'] <= '2010-06-30')]\n",
    "\n",
    "crow_count = june_2010.loc[june_2010['COMMON NAME'] == 'American Crow']['OBSERVATION COUNT'].sum()\n",
    "\n",
    "all_count = june_2010['OBSERVATION COUNT'].sum()\n",
    "\n",
    "crow_count/all_count*100"
   ]
  },
  {
   "cell_type": "code",
   "execution_count": 14,
   "metadata": {},
   "outputs": [],
   "source": [
    "# Creating a function to get the relative frequency of crows when passed a pair of dates.\n",
    "\n",
    "def get_bird_pct(bird, date1, date2):\n",
    "    \"\"\"Takes 2 dates finds the percentage of crows in TN between those dates\"\"\"\n",
    "    date_frame = df3.loc[(df3['OBSERVATION DATE'] >= date1) & (df3['OBSERVATION DATE'] < date2)]\n",
    "    \n",
    "    bird_count = date_frame.loc[date_frame['COMMON NAME'] == bird]['OBSERVATION COUNT'].sum()\n",
    "    \n",
    "    all_count = date_frame['OBSERVATION COUNT'].sum()\n",
    "    \n",
    "    global bird_pct\n",
    "    \n",
    "    bird_pct = round(bird_count/all_count*100, 2)\n",
    "         \n",
    "    return bird_pct"
   ]
  },
  {
   "cell_type": "code",
   "execution_count": 15,
   "metadata": {},
   "outputs": [
    {
     "data": {
      "text/plain": [
       "DatetimeIndex(['2010-01-01', '2010-02-01', '2010-03-01', '2010-04-01',\n",
       "               '2010-05-01', '2010-06-01', '2010-07-01', '2010-08-01',\n",
       "               '2010-09-01', '2010-10-01',\n",
       "               ...\n",
       "               '2019-05-01', '2019-06-01', '2019-07-01', '2019-08-01',\n",
       "               '2019-09-01', '2019-10-01', '2019-11-01', '2019-12-01',\n",
       "               '2020-01-01', '2020-02-01'],\n",
       "              dtype='datetime64[ns]', length=122, freq='M')"
      ]
     },
     "execution_count": 15,
     "metadata": {},
     "output_type": "execute_result"
    }
   ],
   "source": [
    "# Making a list of dates that match the months in my dataset.\n",
    "\n",
    "dates = pd.date_range('2010-01-01','2020-03-01' , freq='1M')-pd.offsets.MonthBegin(1)\n",
    "\n",
    "dates"
   ]
  },
  {
   "cell_type": "code",
   "execution_count": 16,
   "metadata": {},
   "outputs": [
    {
     "data": {
      "text/plain": [
       "array(['Acadian Flycatcher', 'Accipiter sp.', 'Alder Flycatcher',\n",
       "       \"Alder/Willow Flycatcher (Traill's Flycatcher)\",\n",
       "       \"Allen's Hummingbird\", 'American Avocet', 'American Bittern',\n",
       "       'American Black Duck', 'American Black/Mottled Duck',\n",
       "       'American Coot', 'American Crow', 'American Flamingo',\n",
       "       'American Golden-Plover', 'American Goldfinch', 'American Kestrel',\n",
       "       'American Pipit', 'American Redstart', 'American Robin',\n",
       "       'American Tree Sparrow', 'American White Pelican',\n",
       "       'American Wigeon', 'American Wigeon x Mallard (hybrid)',\n",
       "       'American Woodcock', 'Ammospiza sp.', 'Anhinga', 'Arctic Tern',\n",
       "       'Arctic/Pacific Loon', 'Ash-throated Flycatcher', 'Aythya sp.',\n",
       "       \"Bachman's Sparrow\", \"Baird's Sandpiper\", 'Bald Eagle',\n",
       "       'Baltimore Oriole', 'Bank Swallow', 'Barn Owl', 'Barn Swallow',\n",
       "       'Barred Owl', \"Barrow's Goldeneye\", 'Bay-breasted Warbler',\n",
       "       'Bay-breasted/Blackpoll Warbler', \"Bell's Vireo\",\n",
       "       'Belted Kingfisher', \"Bewick's Wren\", 'Black Scoter',\n",
       "       'Black Skimmer', 'Black Tern', 'Black Vulture',\n",
       "       'Black-and-white Warbler', 'Black-bellied Plover',\n",
       "       'Black-bellied Plover/golden-plover sp.',\n",
       "       'Black-bellied Whistling-Duck', 'Black-billed Cuckoo',\n",
       "       'Black-capped Chickadee', 'Black-capped Petrel',\n",
       "       'Black-chinned Hummingbird', 'Black-crowned Night-Heron',\n",
       "       'Black-crowned/Yellow-crowned Night-Heron',\n",
       "       'Black-headed Grosbeak', 'Black-legged Kittiwake',\n",
       "       'Black-necked Stilt', 'Black-throated Blue Warbler',\n",
       "       'Black-throated Green Warbler', 'Blackburnian Warbler',\n",
       "       'Blackpoll Warbler', 'Blue Grosbeak', 'Blue Jay',\n",
       "       'Blue-gray Gnatcatcher', 'Blue-headed Vireo', 'Blue-winged Teal',\n",
       "       'Blue-winged Warbler', 'Blue-winged x Cinnamon Teal (hybrid)',\n",
       "       'Blue-winged/Cinnamon Teal', 'Boat-tailed Grackle', 'Bobolink',\n",
       "       'Bohemian Waxwing', \"Bonaparte's Gull\", 'Brant',\n",
       "       \"Brewer's Blackbird\", \"Brewster's Warbler (hybrid)\",\n",
       "       'Broad-billed Hummingbird', 'Broad-winged Hawk', 'Bronzed Cowbird',\n",
       "       'Brown Booby', 'Brown Creeper', 'Brown Noddy', 'Brown Pelican',\n",
       "       'Brown Thrasher', 'Brown-headed Cowbird', 'Brown-headed Nuthatch',\n",
       "       'Budgerigar', 'Buff-breasted Sandpiper', 'Bufflehead', 'Buteo sp.',\n",
       "       'Cackling Goose', 'Cackling/Canada Goose', 'Calidris sp.',\n",
       "       'California Gull', 'Calliope Hummingbird', 'Canada Goose',\n",
       "       'Canada Warbler', 'Canvasback', 'Cape May Warbler',\n",
       "       'Carolina Chickadee', 'Carolina Wren',\n",
       "       'Carolina x Black-capped Chickadee (hybrid)',\n",
       "       'Carolina/Black-capped Chickadee', 'Caspian Tern',\n",
       "       \"Cassin's/Blue-headed Vireo\", 'Catharus sp.', 'Cattle Egret',\n",
       "       'Cave Swallow', 'Cedar Waxwing', 'Cerulean Warbler',\n",
       "       'Chestnut-collared Longspur', 'Chestnut-sided Warbler',\n",
       "       'Chimney Swift', 'Chipping Sparrow', \"Chuck-will's-widow\",\n",
       "       'Cinnamon Teal', 'Clay-colored Sparrow', 'Cliff Swallow',\n",
       "       'Cliff/Cave Swallow', 'Coccyzus sp.', 'Common Eider',\n",
       "       'Common Gallinule', 'Common Goldeneye', 'Common Grackle',\n",
       "       'Common Ground Dove', 'Common Loon', 'Common Merganser',\n",
       "       'Common Nighthawk', 'Common Raven', 'Common Redpoll',\n",
       "       'Common Tern', 'Common Yellowthroat', \"Common/Forster's Tern\",\n",
       "       'Common/Red-breasted Merganser', 'Connecticut Warbler',\n",
       "       \"Cooper's Hawk\", 'Crested Caracara', 'Curlew Sandpiper',\n",
       "       'Dark-eyed Junco', 'Dickcissel',\n",
       "       'Domestic goose sp. (Domestic type)',\n",
       "       'Domestic goose sp. (Domestic type) x Canada Goose (hybrid)',\n",
       "       'Double-crested Cormorant', 'Downy Woodpecker',\n",
       "       'Downy/Hairy Woodpecker', 'Dunlin', 'Eared Grebe',\n",
       "       'Eastern Bluebird', 'Eastern Kingbird', 'Eastern Meadowlark',\n",
       "       'Eastern Phoebe', 'Eastern Screech-Owl', 'Eastern Towhee',\n",
       "       'Eastern Whip-poor-will', 'Eastern Wood-Pewee', 'Empidonax sp.',\n",
       "       'Eurasian Collared-Dove',\n",
       "       'Eurasian Collared-Dove x Mourning Dove (hybrid)',\n",
       "       'Eurasian Wigeon', 'European Goldfinch', 'European Starling',\n",
       "       'Evening Grosbeak', 'Ferruginous Hawk', 'Field Sparrow',\n",
       "       'Fish Crow', \"Forster's Tern\", 'Fox Sparrow', \"Franklin's Gull\",\n",
       "       'Fulvous Whistling-Duck', 'Gadwall', 'Gadwall x Mallard (hybrid)',\n",
       "       'Gadwall x Northern Pintail (hybrid)', 'Glaucous Gull',\n",
       "       'Glaucous x Great Black-backed Gull (hybrid)', 'Glossy Ibis',\n",
       "       'Glossy x White-faced Ibis (hybrid)', 'Glossy/White-faced Ibis',\n",
       "       'Golden Eagle', 'Golden-crowned Kinglet', 'Golden-winged Warbler',\n",
       "       'Golden-winged x Blue-winged Warbler (hybrid)',\n",
       "       'Golden/Bald Eagle', 'Grasshopper Sparrow', 'Gray Catbird',\n",
       "       'Gray-cheeked Thrush', 'Graylag Goose (Domestic type)',\n",
       "       'Graylag Goose (Domestic type) x Canada Goose (hybrid)',\n",
       "       'Graylag x Canada Goose (hybrid)',\n",
       "       'Graylag x Swan Goose (Domestic type) (hybrid)',\n",
       "       'Great Black-backed Gull', 'Great Blue Heron',\n",
       "       'Great Crested Flycatcher', 'Great Egret', 'Great Horned Owl',\n",
       "       'Great Kiskadee', 'Great Shearwater', 'Great-tailed Grackle',\n",
       "       'Greater Scaup', 'Greater White-fronted Goose',\n",
       "       'Greater White-fronted x Canada Goose (hybrid)',\n",
       "       'Greater Yellowlegs', 'Greater/Lesser Scaup',\n",
       "       'Greater/Lesser Yellowlegs', 'Green Heron', 'Green-winged Teal',\n",
       "       'Hairy Woodpecker', 'Harlequin Duck', \"Harris's Sparrow\",\n",
       "       \"Henslow's Sparrow\", 'Hermit Thrush', 'Herring Gull',\n",
       "       'Herring x Glaucous Gull (hybrid)', 'Herring/Iceland Gull',\n",
       "       'Hooded Crane', 'Hooded Merganser', 'Hooded Oriole',\n",
       "       'Hooded Warbler', 'Horned Grebe', 'Horned Lark', 'House Finch',\n",
       "       'House Sparrow', 'House Wren', 'House/Purple Finch',\n",
       "       'Hudsonian Godwit', 'Iceland Gull', 'Inca Dove', 'Indian Peafowl',\n",
       "       'Indigo Bunting', 'Kentucky Warbler', 'Killdeer', 'King Rail',\n",
       "       \"Kirtland's Warbler\", 'Lapland Longspur', 'Lark Sparrow',\n",
       "       'Larus sp.', 'Laughing Gull', \"Lawrence's Warbler (hybrid)\",\n",
       "       \"LeConte's Sparrow\", 'Least Bittern', 'Least Flycatcher',\n",
       "       'Least Sandpiper', 'Least Tern', 'Lesser Black-backed Gull',\n",
       "       'Lesser Goldfinch', 'Lesser Scaup', 'Lesser Yellowlegs', 'Limpkin',\n",
       "       \"Lincoln's Sparrow\", 'Little Blue Heron', 'Little Gull',\n",
       "       'Loggerhead Shrike', 'Long-billed Curlew', 'Long-billed Dowitcher',\n",
       "       'Long-eared Owl', 'Long-tailed Duck', 'Long-tailed Jaeger',\n",
       "       'Louisiana Waterthrush', 'Louisiana/Northern Waterthrush',\n",
       "       'Magnificent Frigatebird', 'Magnolia Warbler', 'Mallard',\n",
       "       'Mallard (Domestic type)',\n",
       "       'Mallard x American Black Duck (hybrid)',\n",
       "       'Mallard x Mottled Duck (hybrid)',\n",
       "       'Mallard x Northern Pintail (hybrid)',\n",
       "       'Mallard/American Black Duck', 'Marbled Godwit', 'Marsh Wren',\n",
       "       \"McCown's Longspur\", 'Merlin', 'Mew Gull', 'Mississippi Kite',\n",
       "       'Mottled Duck', 'Mourning Dove', 'Mourning Warbler',\n",
       "       'Muscovy Duck', 'Muscovy Duck (Domestic type)',\n",
       "       'Muscovy Duck x Mallard (hybrid)', 'Mute Swan',\n",
       "       'Nashville Warbler', \"Nelson's Sparrow\", 'Neotropic Cormorant',\n",
       "       'Neotropic/Double-crested Cormorant', 'Northern Bobwhite',\n",
       "       'Northern Cardinal', 'Northern Flicker', 'Northern Goshawk',\n",
       "       'Northern Harrier', 'Northern Mockingbird', 'Northern Parula',\n",
       "       'Northern Pintail', 'Northern Rough-winged Swallow',\n",
       "       'Northern Saw-whet Owl', 'Northern Shoveler',\n",
       "       'Northern Shoveler x Mallard (hybrid)', 'Northern Waterthrush',\n",
       "       'Northern Wheatear', 'Olive-sided Flycatcher',\n",
       "       'Orange-crowned Warbler', 'Orchard Oriole', 'Osprey', 'Ovenbird',\n",
       "       'Pacific Loon', 'Painted Bunting', 'Palm Warbler',\n",
       "       'Parasitic Jaeger', 'Passerina sp.', 'Pectoral Sandpiper',\n",
       "       'Peregrine Falcon', 'Philadelphia Vireo',\n",
       "       'Philadelphia/Red-eyed Vireo', 'Philadelphia/Warbling Vireo',\n",
       "       'Pied-billed Grebe', 'Pileated Woodpecker', 'Pine Siskin',\n",
       "       'Pine Warbler', 'Piping Plover', 'Pomarine Jaeger',\n",
       "       'Prairie Falcon', 'Prairie Warbler', 'Prothonotary Warbler',\n",
       "       'Purple Finch', 'Purple Gallinule', 'Purple Martin',\n",
       "       'Red Crossbill', 'Red Knot', 'Red Phalarope',\n",
       "       'Red-bellied Woodpecker', 'Red-breasted Merganser',\n",
       "       'Red-breasted Nuthatch', 'Red-eyed Vireo', 'Red-headed Woodpecker',\n",
       "       'Red-necked Grebe', 'Red-necked Phalarope', 'Red-shouldered Hawk',\n",
       "       'Red-tailed Hawk', 'Red-throated Loon', 'Red-winged Blackbird',\n",
       "       'Redhead', 'Ring-billed Gull', 'Ring-necked Duck',\n",
       "       'Ring-necked Duck x Lesser Scaup (hybrid)', 'Ring-necked Pheasant',\n",
       "       'Rock Pigeon', 'Rose-breasted Grosbeak',\n",
       "       'Rose-breasted/Black-headed Grosbeak', 'Roseate Spoonbill',\n",
       "       \"Ross's Goose\", 'Rough-legged Hawk', 'Royal Tern',\n",
       "       'Ruby-crowned Kinglet', 'Ruby-throated Hummingbird', 'Ruddy Duck',\n",
       "       'Ruddy Turnstone', 'Ruff', 'Ruffed Grouse', 'Rufous Hummingbird',\n",
       "       \"Rufous/Allen's Hummingbird\", 'Rusty Blackbird',\n",
       "       \"Rusty/Brewer's Blackbird\", \"Sabine's Gull\", 'Sanderling',\n",
       "       'Sandhill Crane', 'Sandwich Tern', 'Savannah Sparrow',\n",
       "       \"Say's Phoebe\", 'Scaly-breasted Munia', 'Scarlet Tanager',\n",
       "       'Scissor-tailed Flycatcher', 'Sedge Wren', 'Sedge/Marsh Wren',\n",
       "       'Semipalmated Plover', 'Semipalmated Sandpiper',\n",
       "       'Semipalmated/Western Sandpiper', 'Setophaga sp.',\n",
       "       'Sharp-shinned Hawk', \"Sharp-shinned/Cooper's Hawk\",\n",
       "       'Short-billed Dowitcher', 'Short-billed/Long-billed Dowitcher',\n",
       "       'Short-eared Owl', \"Smith's Longspur\", 'Snow Bunting',\n",
       "       'Snow Goose', 'Snow x Greater White-fronted Goose (hybrid)',\n",
       "       \"Snow x Ross's Goose (hybrid)\", \"Snow/Ross's Goose\", 'Snowy Egret',\n",
       "       'Snowy Owl', 'Snowy Plover', 'Solitary Sandpiper', 'Song Sparrow',\n",
       "       'Sooty Tern', 'Sora', 'Spotted Sandpiper', 'Spotted Towhee',\n",
       "       'Spotted/Eastern Towhee (Rufous-sided Towhee)', 'Sterna sp.',\n",
       "       'Stilt Sandpiper', 'Streptopelia sp.', 'Summer Tanager',\n",
       "       'Summer/Scarlet Tanager', 'Surf Scoter', 'Surf/Black Scoter',\n",
       "       \"Swainson's Hawk\", \"Swainson's Thrush\", \"Swainson's Warbler\",\n",
       "       'Swallow-tailed Kite', 'Swamp Sparrow',\n",
       "       'Swan Goose (Domestic type)',\n",
       "       'Swan Goose (Domestic type) x Canada Goose (hybrid)',\n",
       "       'Tennessee Warbler', \"Townsend's Solitaire\", 'Tree Swallow',\n",
       "       'Tricolored Heron', 'Tricolored Munia', 'Trumpeter Swan',\n",
       "       'Trumpeter/Tundra Swan', 'Tufted Titmouse', 'Tundra Swan',\n",
       "       'Turkey Vulture', 'Tyrannus sp.', 'Upland Sandpiper', 'Veery',\n",
       "       'Vermilion Flycatcher', 'Vesper Sparrow', 'Virginia Rail',\n",
       "       \"Virginia's Warbler\", 'Warbling Vireo', 'Western Grebe',\n",
       "       'Western Kingbird',\n",
       "       'Western Kingbird x Scissor-tailed Flycatcher (hybrid)',\n",
       "       'Western Meadowlark', 'Western Sandpiper', 'Western Tanager',\n",
       "       \"Western/Clark's Grebe\", 'Western/Eastern Meadowlark', 'Whimbrel',\n",
       "       'White Ibis', 'White-breasted Nuthatch', 'White-crowned Sparrow',\n",
       "       'White-crowned/White-throated Sparrow', 'White-eyed Vireo',\n",
       "       'White-faced Ibis', 'White-rumped Sandpiper',\n",
       "       'White-throated Sparrow', 'White-winged Crossbill',\n",
       "       'White-winged Dove', 'White-winged Scoter', 'Whooping Crane',\n",
       "       'Wild Turkey', 'Willet', 'Willow Flycatcher', \"Wilson's Phalarope\",\n",
       "       \"Wilson's Snipe\", \"Wilson's Warbler\", 'Winter Wren', 'Wood Duck',\n",
       "       'Wood Duck x Mallard (hybrid)', 'Wood Stork', 'Wood Thrush',\n",
       "       'Worm-eating Warbler', 'Yellow Rail', 'Yellow Warbler',\n",
       "       'Yellow-bellied Flycatcher', 'Yellow-bellied Sapsucker',\n",
       "       'Yellow-billed Cuckoo', 'Yellow-billed Loon',\n",
       "       'Yellow-billed/Black-billed Cuckoo', 'Yellow-breasted Chat',\n",
       "       'Yellow-crowned Night-Heron', 'Yellow-headed Blackbird',\n",
       "       'Yellow-rumped Warbler', 'Yellow-throated Vireo',\n",
       "       'Yellow-throated Warbler', 'bird sp.', 'blackbird sp.',\n",
       "       'bluebird sp.', 'chickadee sp.', 'cormorant sp.', 'crow sp.',\n",
       "       'crow/raven sp.', 'cuckoo sp. (Cuculidae sp.)',\n",
       "       'dabbling duck sp.', 'diurnal raptor sp.', 'duck sp.', 'eagle sp.',\n",
       "       'falcon sp.', 'finch sp.', 'flycatcher sp. (Tyrannidae sp.)',\n",
       "       'goose sp.', 'grebe sp.', 'gull sp.', 'gull/tern sp.', 'hawk sp.',\n",
       "       'heron sp.', 'hummingbird sp.', 'ibis sp.', 'jaeger sp.',\n",
       "       'kinglet sp.', 'large shorebird sp.', 'longspur sp.', 'loon sp.',\n",
       "       'merganser sp.', 'new world oriole sp.', 'new world vulture sp.',\n",
       "       'nighthawk sp.', 'nightjar sp.', 'nuthatch sp.', 'owl sp.',\n",
       "       'passerine sp.', 'peep sp.', 'phalarope sp.', 'plover sp.',\n",
       "       'rail/crake sp.', 'scoter sp.', 'shorebird sp.',\n",
       "       'small falcon sp.', 'solitary vireo sp.', 'sparrow sp.',\n",
       "       'swallow sp.', 'swan sp.', 'tanager sp. (Piranga sp.)', 'teal sp.',\n",
       "       'tern sp.', 'thrush sp.', 'vireo sp.',\n",
       "       'warbler sp. (Parulidae sp.)', 'waterfowl sp.', 'white egret sp.',\n",
       "       'woodpecker sp.', 'wren sp.'], dtype=object)"
      ]
     },
     "execution_count": 16,
     "metadata": {},
     "output_type": "execute_result"
    }
   ],
   "source": [
    "df3['COMMON NAME'].sort_values().unique()"
   ]
  },
  {
   "cell_type": "code",
   "execution_count": 68,
   "metadata": {
    "scrolled": true
   },
   "outputs": [
    {
     "data": {
      "image/png": "[encoded data removed]",
      "text/plain": [
       "<Figure size 1080x360 with 1 Axes>"
      ]
     },
     "metadata": {
      "needs_background": "light"
     },
     "output_type": "display_data"
    }
   ],
   "source": [
    "# Generating a graph of relative frequency of bird by month and year\n",
    "\n",
    "bird = 'Red-tailed Hawk'\n",
    "\n",
    "data_list = []\n",
    "\n",
    "for i in range(len(dates)):\n",
    "    if i+1 == len(dates):\n",
    "        break\n",
    "    else:\n",
    "    \n",
    "        get_bird_pct(bird, dates[i].date().strftime('%Y-%m-%d'), dates[i+1].date().strftime('%Y-%m-%d'))\n",
    "        data_list.append([dates[i].date().strftime('%Y-%m-%d'), bird_pct])\n",
    "                \n",
    "df = pd.DataFrame(data_list)\n",
    "\n",
    "df.columns = ['date', f'{bird} pct']\n",
    "\n",
    "df['month'] = df['date'].str.split('-').str[1]\n",
    "\n",
    "df['year'] = df['date'].str.split('-').str[0]\n",
    "\n",
    "df['year'] = df['year'].astype(int)\n",
    "\n",
    "df['month'] = df['month'].astype('category')\n",
    "\n",
    "df_pivot = df.pivot(index = 'month', columns = 'year', values = f'{bird} pct')\n",
    "\n",
    "df_pivot.plot(figsize = (15, 5))\n",
    "\n",
    "plt.xlabel('Month')\n",
    "plt.ylabel('Percentage')\n",
    "plt.title(f'{bird} Relative Percentage by year in TN')\n",
    "\n",
    "plt.show()"
   ]
  },
  {
   "cell_type": "markdown",
   "metadata": {},
   "source": [
    "#### Birds with interesting graphs:\n",
    "\n",
    "Chimney Swift\n",
    "\n",
    "\n",
    "#### Birds with middling graphs:\n",
    "\n",
    "Eastern Bluebird\n",
    "\n",
    "American Crow\n",
    "\n",
    "\n",
    "#### Birds with uninteresting graphs:\n",
    "\n",
    "Northern Cardinal\n",
    "\n",
    "Blue Jay\n",
    "\n",
    "Red-tailed Hawk"
   ]
  },
  {
   "cell_type": "code",
   "execution_count": 17,
   "metadata": {},
   "outputs": [],
   "source": [
    "# What are the top 20 birds?\n",
    "\n",
    "top_20 = df3.groupby('COMMON NAME')['OBSERVATION COUNT'].sum().sort_values(ascending = False).head(20).index"
   ]
  },
  {
   "cell_type": "code",
   "execution_count": 89,
   "metadata": {},
   "outputs": [],
   "source": [
    "# Creating a dataframe with the top 20 birds and their percentages\n",
    "\n",
    "data_list = []\n",
    "\n",
    "for bird in top_20:\n",
    "    for i in range(len(dates)):\n",
    "        if i+1 == len(dates):\n",
    "            break\n",
    "        else:\n",
    "    \n",
    "            get_bird_pct(bird, dates[i].date().strftime('%Y-%m-%d'), dates[i+1].date().strftime('%Y-%m-%d'))\n",
    "            data_list.append([bird, dates[i].date().strftime('%Y-%m-%d'), bird_pct])\n",
    "                \n",
    "df5 = pd.DataFrame(data_list)\n",
    "\n",
    "df5.columns = ['bird', 'date', 'relative_pct']"
   ]
  },
  {
   "cell_type": "code",
   "execution_count": 91,
   "metadata": {},
   "outputs": [],
   "source": [
    "df5.to_csv('../data/tn_all_2010/top_20_pcts.csv')"
   ]
  },
  {
   "cell_type": "markdown",
   "metadata": {},
   "source": [
    "#### After writing these top 20 birds with their frequency data to csv a column ('image') with a web url was added for the dashboard."
   ]
  },
  {
   "cell_type": "code",
   "execution_count": 18,
   "metadata": {},
   "outputs": [
    {
     "data": {
      "text/plain": [
       "Index(['Common Grackle', 'Mallard', 'European Starling', 'Ring-billed Gull',\n",
       "       'Snow Goose', 'Red-winged Blackbird', 'American Robin',\n",
       "       'Sandhill Crane', 'Canada Goose', 'American Coot', 'Gadwall',\n",
       "       'Purple Martin', 'Least Sandpiper', 'American Crow',\n",
       "       'Northern Cardinal', 'Lesser Scaup', 'Double-crested Cormorant',\n",
       "       'Mourning Dove', 'Brown-headed Cowbird', 'Greater White-fronted Goose'],\n",
       "      dtype='object', name='COMMON NAME')"
      ]
     },
     "execution_count": 18,
     "metadata": {},
     "output_type": "execute_result"
    }
   ],
   "source": [
    "top_20"
   ]
  },
  {
   "cell_type": "code",
   "execution_count": 23,
   "metadata": {},
   "outputs": [
    {
     "data": {
      "text/plain": [
       "(1152531, 6)"
      ]
     },
     "execution_count": 23,
     "metadata": {},
     "output_type": "execute_result"
    }
   ],
   "source": [
    "top_20_df = df3.loc[df3['COMMON NAME'].isin(top_20)]\n",
    "\n",
    "top_20_df.shape"
   ]
  },
  {
   "cell_type": "code",
   "execution_count": 37,
   "metadata": {},
   "outputs": [],
   "source": [
    "# I want to create a heatmap of these top 20 birds with the images, creating crosswalk from earlier\n",
    "# csv to get the image data\n",
    "\n",
    "image_crosswalk = pd.read_csv('../data/tn_all_2010/top_20_pcts.csv', usecols = ['bird', 'image'])\n",
    "\n",
    "image_crosswalk = image_crosswalk.drop_duplicates(subset = 'bird').reset_index(drop = True)\n",
    "\n",
    "image_crosswalk.columns = ['COMMON NAME', 'image']"
   ]
  },
  {
   "cell_type": "code",
   "execution_count": 39,
   "metadata": {},
   "outputs": [],
   "source": [
    "top_20_loc_df = pd.merge(top_20_df, image_crosswalk, how = 'left', on = ['COMMON NAME'])"
   ]
  },
  {
   "cell_type": "code",
   "execution_count": 40,
   "metadata": {},
   "outputs": [],
   "source": [
    "top_20_loc_df.to_csv('../data/tn_all_2010/top_20_loc.csv')"
   ]
  },
  {
   "cell_type": "code",
   "execution_count": null,
   "metadata": {},
   "outputs": [],
   "source": []
  }
 ],
 "metadata": {
  "kernelspec": {
   "display_name": "Python 3",
   "language": "python",
   "name": "python3"
  },
  "language_info": {
   "codemirror_mode": {
    "name": "ipython",
    "version": 3
   },
   "file_extension": ".py",
   "mimetype": "text/x-python",
   "name": "python",
   "nbconvert_exporter": "python",
   "pygments_lexer": "ipython3",
   "version": "3.7.6"
  }
 },
 "nbformat": 4,
 "nbformat_minor": 4
}
